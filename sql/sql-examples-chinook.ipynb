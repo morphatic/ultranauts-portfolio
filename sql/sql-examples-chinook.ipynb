{
 "cells": [
  {
   "cell_type": "markdown",
   "id": "e2c1246a",
   "metadata": {},
   "source": [
    "# SQL Examples with the Chinook Database\n",
    "\n",
    "This page demonstrates my capabilities to:\n",
    "\n",
    "1. Formulate questions a business user might wish to ask with respect to their company database in clear English\n",
    "2. Translate those English questions into SQL (Structured Query Language)\n",
    "3. Implement the SQL queries in a Python project context\n",
    "4. Write clean, well-documented runnable code\n",
    "5. Provide meaningful analyses and recommendations based on query results\n",
    "\n",
    "The business questions and their related SQL queries on this page are presented in increasing order of complexity.\n",
    "\n",
    "The [Chinook database](https://github.com/lerocha/chinook-database) upon which these queries are based is a <abbr title=\"Free and Open-Source Software\">FOSS</abbr> project designed specifically for demos such as this one. Although it can be freely downloaded in many formats (MySQL, PostgreSQL, SQL Server, etc.), for this demo I've used the SQLite version of the DB because it is self-contained and doesn't require the consumers of this demo to download or install any additional drivers or packages to use it. SQLite is supported \"out of the box\" by Python.\n",
    "\n",
    "## Connecting to the Database\n",
    "\n",
    "The first step in making SQL queries from any program is to establish a connection to the database. Generally, this requires 6 key pieces of information:\n",
    "\n",
    "1. **Driver**: specifies the type of database, i.e how the program should communicate with it, e.g. MySQL, SQlite, etc.\n",
    "2. **Hostname**: generally a URL to the server where the DB is hosted\n",
    "3. **Port Number**: appended to the URL, each type of database has a standard port number, but sometimes these are changed when there are multiple instances on the same server (e.g. dev, QA, staging, prod, etc.), or for security to make it harder for malicious actors to make connections\n",
    "4. **Username**: of the database user who will be connecting to the database server\n",
    "5. **Password**: for the user\n",
    "6. **Database Name**: since a database server can have multiple databases on it simultaneously, we must specify which database we want to connect to. The user must have permissions to access this datbase.\n",
    "\n",
    "Using SQLite makes this simpler, since it doesn't require using a standalone server for hosting--the database is just a single file. Furthermore, each file has only a single database in it, so there's no need to specify the database name. If there are no user-based restrictions in place, it also does not require a username/password.\n",
    "\n",
    "As such, the code to connect to the database looks like this. This code will be used in all of the following examples:"
   ]
  },
  {
   "cell_type": "code",
   "execution_count": null,
   "id": "78721dd6",
   "metadata": {},
   "outputs": [],
   "source": [
    "'''Connecting to the Chinook database'''\n",
    "\n",
    "# import the appropriate driver\n",
    "import sqlite3\n",
    "\n",
    "# create a connection to the database\n",
    "db = sqlite3.connect('chinook.sqlite')\n",
    "\n",
    "# the \"cursor\" keeps track of our location in the DB\n",
    "# and is the object used to actually execute queries\n",
    "cur = db.cursor()\n",
    "\n",
    "# ...code to implement and run SQL queries\n",
    "\n",
    "# finally, close the DB connection\n",
    "db.close()"
   ]
  },
  {
   "cell_type": "markdown",
   "id": "967f6f37",
   "metadata": {},
   "source": [
    "\n",
    "## Who are my customers?\n",
    "\n",
    "This may be the simplest type of question a business user might ask."
   ]
  },
  {
   "cell_type": "code",
   "execution_count": 1,
   "id": "49246339",
   "metadata": {},
   "outputs": [
    {
     "name": "stdout",
     "output_type": "stream",
     "text": [
      "Luís Gonçalves\n",
      "Leonie Köhler\n",
      "François Tremblay\n",
      "Bjørn Hansen\n",
      "František Wichterlová\n",
      "Helena Holý\n",
      "Astrid Gruber\n",
      "Daan Peeters\n",
      "Kara Nielsen\n",
      "Eduardo Martins\n",
      "Alexandre Rocha\n",
      "Roberto Almeida\n",
      "Fernanda Ramos\n",
      "Mark Philips\n",
      "Jennifer Peterson\n",
      "Frank Harris\n",
      "Jack Smith\n",
      "Michelle Brooks\n",
      "Tim Goyer\n",
      "Dan Miller\n",
      "Kathy Chase\n",
      "Heather Leacock\n",
      "John Gordon\n",
      "Frank Ralston\n",
      "Victor Stevens\n",
      "Richard Cunningham\n",
      "Patrick Gray\n",
      "Julia Barnett\n",
      "Robert Brown\n",
      "Edward Francis\n",
      "Martha Silk\n",
      "Aaron Mitchell\n",
      "Ellie Sullivan\n",
      "João Fernandes\n",
      "Madalena Sampaio\n",
      "Hannah Schneider\n",
      "Fynn Zimmermann\n",
      "Niklas Schröder\n",
      "Camille Bernard\n",
      "Dominique Lefebvre\n",
      "Marc Dubois\n",
      "Wyatt Girard\n",
      "Isabelle Mercier\n",
      "Terhi Hämäläinen\n",
      "Ladislav Kovács\n",
      "Hugh O'Reilly\n",
      "Lucas Mancini\n",
      "Johannes Van der Berg\n",
      "Stanisław Wójcik\n",
      "Enrique Muñoz\n",
      "Joakim Johansson\n",
      "Emma Jones\n",
      "Phil Hughes\n",
      "Steve Murray\n",
      "Mark Taylor\n",
      "Diego Gutiérrez\n",
      "Luis Rojas\n",
      "Manoj Pareek\n",
      "Puja Srivastava\n"
     ]
    }
   ],
   "source": [
    "'''Get a list of customers'''\n",
    "\n",
    "import sqlite3\n",
    "db = sqlite3.connect('chinook.sqlite')\n",
    "cur = db.cursor()\n",
    "\n",
    "# write our query; SQL is NOT case-sensitive, but it is\n",
    "# customary for SQL keywords to be in ALL CAPS\n",
    "sql = 'SELECT FirstName, LastName FROM customer'\n",
    "\n",
    "# execute the query and capture the result\n",
    "res = cur.execute(sql)\n",
    "\n",
    "# loop through the result and print it out\n",
    "for row in res:\n",
    "  print(f\"{row[0]} {row[1]}\")\n",
    "\n",
    "db.close()"
   ]
  },
  {
   "cell_type": "markdown",
   "id": "37af45b6",
   "metadata": {},
   "source": [
    "As requested, the code above prints out a list the first and last names of ALL of the customers in the database. Let's improve upon that by:\n",
    "\n",
    "1. **Using Dataframes**<br>The `pandas` library is designed to streamline most data-related operations in Python, e.g. retrieving the results of a SQL query as a \"dataframe\"\n",
    "2. **Narrow Results**<br>Let's restrict this to our top 5 customers. In this case, \"top\" has a contextual, business meaning which must be interpreted in SQL. For this example, \"top\" means customers who have spent the most money with our company in descencing order.\n",
    "3. **Beautify Output**<br>Using the `IPython.display` method, we can output the `pandas` dataframe in a pleasing format\n",
    "\n",
    "## Who are my \"top 5\" customers?"
   ]
  },
  {
   "cell_type": "code",
   "execution_count": 2,
   "id": "04cf5c3d",
   "metadata": {},
   "outputs": [
    {
     "ename": "DatabaseError",
     "evalue": "Execution failed on sql '\n  SELECT top 10 FirstName, LastName, Total\n  FROM (\n    SELECT FirstName, Lastname, SUM(Total) as Total\n    FROM customer c, invoice i\n    WHERE c.CustomerId = i.CustomerId\n    GROUP BY c.CustomerId\n  ) ci\n  ORDER BY Total DESC\n': near \"10\": syntax error",
     "output_type": "error",
     "traceback": [
      "\u001b[1;31m---------------------------------------------------------------------------\u001b[0m",
      "\u001b[1;31mOperationalError\u001b[0m                          Traceback (most recent call last)",
      "File \u001b[1;32m~\\dev\\ultranauts-portfolio\\sql\\venv\\lib\\site-packages\\pandas\\io\\sql.py:2018\u001b[0m, in \u001b[0;36mSQLiteDatabase.execute\u001b[1;34m(self, *args, **kwargs)\u001b[0m\n\u001b[0;32m   2017\u001b[0m \u001b[38;5;28;01mtry\u001b[39;00m:\n\u001b[1;32m-> 2018\u001b[0m     cur\u001b[38;5;241m.\u001b[39mexecute(\u001b[38;5;241m*\u001b[39margs, \u001b[38;5;241m*\u001b[39m\u001b[38;5;241m*\u001b[39mkwargs)\n\u001b[0;32m   2019\u001b[0m     \u001b[38;5;28;01mreturn\u001b[39;00m cur\n",
      "\u001b[1;31mOperationalError\u001b[0m: near \"10\": syntax error",
      "\nThe above exception was the direct cause of the following exception:\n",
      "\u001b[1;31mDatabaseError\u001b[0m                             Traceback (most recent call last)",
      "Cell \u001b[1;32mIn [2], line 20\u001b[0m\n\u001b[0;32m      8\u001b[0m \u001b[38;5;66;03m# get top 10 customers by sum of total invoices\u001b[39;00m\n\u001b[0;32m      9\u001b[0m sql \u001b[38;5;241m=\u001b[39m \u001b[38;5;124m'''\u001b[39m\n\u001b[0;32m     10\u001b[0m \u001b[38;5;124m  SELECT top 10 FirstName, LastName, Total\u001b[39m\n\u001b[0;32m     11\u001b[0m \u001b[38;5;124m  FROM (\u001b[39m\n\u001b[1;32m   (...)\u001b[0m\n\u001b[0;32m     17\u001b[0m \u001b[38;5;124m  ORDER BY Total DESC\u001b[39m\n\u001b[0;32m     18\u001b[0m \u001b[38;5;124m'''\u001b[39m\n\u001b[1;32m---> 20\u001b[0m df \u001b[38;5;241m=\u001b[39m \u001b[43mpd\u001b[49m\u001b[38;5;241;43m.\u001b[39;49m\u001b[43mread_sql_query\u001b[49m\u001b[43m(\u001b[49m\u001b[43msql\u001b[49m\u001b[43m,\u001b[49m\u001b[43m \u001b[49m\u001b[43mdb\u001b[49m\u001b[43m)\u001b[49m\n\u001b[0;32m     22\u001b[0m df\u001b[38;5;241m.\u001b[39mstyle\n\u001b[0;32m     24\u001b[0m db\u001b[38;5;241m.\u001b[39mclose()\n",
      "File \u001b[1;32m~\\dev\\ultranauts-portfolio\\sql\\venv\\lib\\site-packages\\pandas\\io\\sql.py:397\u001b[0m, in \u001b[0;36mread_sql_query\u001b[1;34m(sql, con, index_col, coerce_float, params, parse_dates, chunksize, dtype)\u001b[0m\n\u001b[0;32m    339\u001b[0m \u001b[38;5;124;03m\"\"\"\u001b[39;00m\n\u001b[0;32m    340\u001b[0m \u001b[38;5;124;03mRead SQL query into a DataFrame.\u001b[39;00m\n\u001b[0;32m    341\u001b[0m \n\u001b[1;32m   (...)\u001b[0m\n\u001b[0;32m    394\u001b[0m \u001b[38;5;124;03mparameter will be converted to UTC.\u001b[39;00m\n\u001b[0;32m    395\u001b[0m \u001b[38;5;124;03m\"\"\"\u001b[39;00m\n\u001b[0;32m    396\u001b[0m pandas_sql \u001b[38;5;241m=\u001b[39m pandasSQL_builder(con)\n\u001b[1;32m--> 397\u001b[0m \u001b[38;5;28;01mreturn\u001b[39;00m \u001b[43mpandas_sql\u001b[49m\u001b[38;5;241;43m.\u001b[39;49m\u001b[43mread_query\u001b[49m\u001b[43m(\u001b[49m\n\u001b[0;32m    398\u001b[0m \u001b[43m    \u001b[49m\u001b[43msql\u001b[49m\u001b[43m,\u001b[49m\n\u001b[0;32m    399\u001b[0m \u001b[43m    \u001b[49m\u001b[43mindex_col\u001b[49m\u001b[38;5;241;43m=\u001b[39;49m\u001b[43mindex_col\u001b[49m\u001b[43m,\u001b[49m\n\u001b[0;32m    400\u001b[0m \u001b[43m    \u001b[49m\u001b[43mparams\u001b[49m\u001b[38;5;241;43m=\u001b[39;49m\u001b[43mparams\u001b[49m\u001b[43m,\u001b[49m\n\u001b[0;32m    401\u001b[0m \u001b[43m    \u001b[49m\u001b[43mcoerce_float\u001b[49m\u001b[38;5;241;43m=\u001b[39;49m\u001b[43mcoerce_float\u001b[49m\u001b[43m,\u001b[49m\n\u001b[0;32m    402\u001b[0m \u001b[43m    \u001b[49m\u001b[43mparse_dates\u001b[49m\u001b[38;5;241;43m=\u001b[39;49m\u001b[43mparse_dates\u001b[49m\u001b[43m,\u001b[49m\n\u001b[0;32m    403\u001b[0m \u001b[43m    \u001b[49m\u001b[43mchunksize\u001b[49m\u001b[38;5;241;43m=\u001b[39;49m\u001b[43mchunksize\u001b[49m\u001b[43m,\u001b[49m\n\u001b[0;32m    404\u001b[0m \u001b[43m    \u001b[49m\u001b[43mdtype\u001b[49m\u001b[38;5;241;43m=\u001b[39;49m\u001b[43mdtype\u001b[49m\u001b[43m,\u001b[49m\n\u001b[0;32m    405\u001b[0m \u001b[43m\u001b[49m\u001b[43m)\u001b[49m\n",
      "File \u001b[1;32m~\\dev\\ultranauts-portfolio\\sql\\venv\\lib\\site-packages\\pandas\\io\\sql.py:2078\u001b[0m, in \u001b[0;36mSQLiteDatabase.read_query\u001b[1;34m(self, sql, index_col, coerce_float, params, parse_dates, chunksize, dtype)\u001b[0m\n\u001b[0;32m   2066\u001b[0m \u001b[38;5;28;01mdef\u001b[39;00m \u001b[38;5;21mread_query\u001b[39m(\n\u001b[0;32m   2067\u001b[0m     \u001b[38;5;28mself\u001b[39m,\n\u001b[0;32m   2068\u001b[0m     sql,\n\u001b[1;32m   (...)\u001b[0m\n\u001b[0;32m   2074\u001b[0m     dtype: DtypeArg \u001b[38;5;241m|\u001b[39m \u001b[38;5;28;01mNone\u001b[39;00m \u001b[38;5;241m=\u001b[39m \u001b[38;5;28;01mNone\u001b[39;00m,\n\u001b[0;32m   2075\u001b[0m ) \u001b[38;5;241m-\u001b[39m\u001b[38;5;241m>\u001b[39m DataFrame \u001b[38;5;241m|\u001b[39m Iterator[DataFrame]:\n\u001b[0;32m   2077\u001b[0m     args \u001b[38;5;241m=\u001b[39m _convert_params(sql, params)\n\u001b[1;32m-> 2078\u001b[0m     cursor \u001b[38;5;241m=\u001b[39m \u001b[38;5;28;43mself\u001b[39;49m\u001b[38;5;241;43m.\u001b[39;49m\u001b[43mexecute\u001b[49m\u001b[43m(\u001b[49m\u001b[38;5;241;43m*\u001b[39;49m\u001b[43margs\u001b[49m\u001b[43m)\u001b[49m\n\u001b[0;32m   2079\u001b[0m     columns \u001b[38;5;241m=\u001b[39m [col_desc[\u001b[38;5;241m0\u001b[39m] \u001b[38;5;28;01mfor\u001b[39;00m col_desc \u001b[38;5;129;01min\u001b[39;00m cursor\u001b[38;5;241m.\u001b[39mdescription]\n\u001b[0;32m   2081\u001b[0m     \u001b[38;5;28;01mif\u001b[39;00m chunksize \u001b[38;5;129;01mis\u001b[39;00m \u001b[38;5;129;01mnot\u001b[39;00m \u001b[38;5;28;01mNone\u001b[39;00m:\n",
      "File \u001b[1;32m~\\dev\\ultranauts-portfolio\\sql\\venv\\lib\\site-packages\\pandas\\io\\sql.py:2030\u001b[0m, in \u001b[0;36mSQLiteDatabase.execute\u001b[1;34m(self, *args, **kwargs)\u001b[0m\n\u001b[0;32m   2027\u001b[0m     \u001b[38;5;28;01mraise\u001b[39;00m ex \u001b[38;5;28;01mfrom\u001b[39;00m \u001b[38;5;21;01minner_exc\u001b[39;00m\n\u001b[0;32m   2029\u001b[0m ex \u001b[38;5;241m=\u001b[39m DatabaseError(\u001b[38;5;124mf\u001b[39m\u001b[38;5;124m\"\u001b[39m\u001b[38;5;124mExecution failed on sql \u001b[39m\u001b[38;5;124m'\u001b[39m\u001b[38;5;132;01m{\u001b[39;00margs[\u001b[38;5;241m0\u001b[39m]\u001b[38;5;132;01m}\u001b[39;00m\u001b[38;5;124m'\u001b[39m\u001b[38;5;124m: \u001b[39m\u001b[38;5;132;01m{\u001b[39;00mexc\u001b[38;5;132;01m}\u001b[39;00m\u001b[38;5;124m\"\u001b[39m)\n\u001b[1;32m-> 2030\u001b[0m \u001b[38;5;28;01mraise\u001b[39;00m ex \u001b[38;5;28;01mfrom\u001b[39;00m \u001b[38;5;21;01mexc\u001b[39;00m\n",
      "\u001b[1;31mDatabaseError\u001b[0m: Execution failed on sql '\n  SELECT top 10 FirstName, LastName, Total\n  FROM (\n    SELECT FirstName, Lastname, SUM(Total) as Total\n    FROM customer c, invoice i\n    WHERE c.CustomerId = i.CustomerId\n    GROUP BY c.CustomerId\n  ) ci\n  ORDER BY Total DESC\n': near \"10\": syntax error"
     ]
    }
   ],
   "source": [
    "'''List my top 5 customers by total invoices'''\n",
    "\n",
    "import sqlite3\n",
    "import pandas as pd\n",
    "from IPython.display import display\n",
    "\n",
    "db = sqlite3.connect('chinook.sqlite')\n",
    "\n",
    "# get top 5 customers by sum of total invoices\n",
    "sql = '''\n",
    "  SELECT FirstName, LastName, Total\n",
    "  FROM (\n",
    "    SELECT FirstName, Lastname, SUM(Total) as Total\n",
    "    FROM customer c, invoice i\n",
    "    WHERE c.CustomerId = i.CustomerId\n",
    "    GROUP BY c.CustomerId\n",
    "  ) ci\n",
    "  ORDER BY Total DESC\n",
    "  LIMIT 5\n",
    "'''\n",
    "\n",
    "df = pd.read_sql_query(sql, db)\n",
    "\n",
    "display(df)\n",
    "\n",
    "db.close()"
   ]
  },
  {
   "cell_type": "code",
   "execution_count": null,
   "id": "d27593db",
   "metadata": {},
   "outputs": [],
   "source": []
  }
 ],
 "metadata": {
  "kernelspec": {
   "display_name": "Python 3 (ipykernel)",
   "language": "python",
   "name": "python3"
  },
  "language_info": {
   "codemirror_mode": {
    "name": "ipython",
    "version": 3
   },
   "file_extension": ".py",
   "mimetype": "text/x-python",
   "name": "python",
   "nbconvert_exporter": "python",
   "pygments_lexer": "ipython3",
   "version": "3.10.7"
  },
  "vscode": {
   "interpreter": {
    "hash": "26de051ba29f2982a8de78e945f0abaf191376122a1563185a90213a26c5da77"
   }
  }
 },
 "nbformat": 4,
 "nbformat_minor": 5
}
